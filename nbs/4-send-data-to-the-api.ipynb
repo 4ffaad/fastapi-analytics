{
 "cells": [
  {
   "cell_type": "code",
   "execution_count": 1,
   "id": "e92403db",
   "metadata": {},
   "outputs": [],
   "source": [
    "import requests"
   ]
  },
  {
   "cell_type": "code",
   "execution_count": 2,
   "id": "6d95efc8",
   "metadata": {},
   "outputs": [],
   "source": [
    "data = { \"page\" : \"/test+\"}"
   ]
  },
  {
   "cell_type": "code",
   "execution_count": 3,
   "id": "c1ccb7e5",
   "metadata": {},
   "outputs": [
    {
     "data": {
      "text/plain": [
       "'{\"page\": \"/test+\"}'"
      ]
     },
     "execution_count": 3,
     "metadata": {},
     "output_type": "execute_result"
    }
   ],
   "source": [
    "import json \n",
    "json.dumps(data)"
   ]
  },
  {
   "cell_type": "code",
   "execution_count": 21,
   "id": "bc9b95b1",
   "metadata": {},
   "outputs": [
    {
     "name": "stdout",
     "output_type": "stream",
     "text": [
      "{'date': 'Thu, 17 Jul 2025 09:22:41 GMT', 'server': 'uvicorn', 'content-length': '42', 'content-type': 'application/json'}\n",
      "True\n",
      "{'page': '/test+', 'description': '', 'id': 12} <class 'dict'> None\n"
     ]
    }
   ],
   "source": [
    "create_path = \"/api/events\"\n",
    "base_url = \"http://localhost:8002\"\n",
    "create_endpoint = f\"{base_url}{create_path}\"\n",
    "\n",
    "response = requests.post(create_endpoint, json={\"page\": \"/test+\"})\n",
    "print(response.headers)\n",
    "print(response.ok)\n",
    "if response.ok:\n",
    "    data = response.json()\n",
    "    print(data,type(data),data.get('items'))\n",
    "else :\n",
    "    print(\"Error:\",  response.text)"
   ]
  },
  {
   "cell_type": "code",
   "execution_count": 22,
   "id": "76cbb214",
   "metadata": {},
   "outputs": [
    {
     "name": "stdout",
     "output_type": "stream",
     "text": [
      "{'date': 'Thu, 17 Jul 2025 09:22:42 GMT', 'server': 'uvicorn', 'content-length': '53', 'content-type': 'application/json'}\n",
      "True\n",
      "{'page': '/test+', 'description': 'inline test', 'id': 12} <class 'dict'> None\n"
     ]
    }
   ],
   "source": [
    "detail_path = \"/api/events/12/\"\n",
    "detail_endpoint = f\"{base_url}{detail_path}\"\n",
    "headers = {\n",
    "    \"Content-Type\": \"application/json\"\n",
    "}\n",
    "response = requests.put(detail_endpoint, json = {\"description\":\"inline test\"})\n",
    "print(response.headers)\n",
    "print(response.ok)\n",
    "if response.ok:\n",
    "    data = response.json()\n",
    "    print(data,type(data),data.get('items'))\n",
    "else :\n",
    "    print(\"Error:\",  response.text)"
   ]
  },
  {
   "cell_type": "code",
   "execution_count": null,
   "id": "b7c2c5f6",
   "metadata": {},
   "outputs": [],
   "source": []
  }
 ],
 "metadata": {
  "kernelspec": {
   "display_name": "venv",
   "language": "python",
   "name": "python3"
  },
  "language_info": {
   "codemirror_mode": {
    "name": "ipython",
    "version": 3
   },
   "file_extension": ".py",
   "mimetype": "text/x-python",
   "name": "python",
   "nbconvert_exporter": "python",
   "pygments_lexer": "ipython3",
   "version": "3.13.3"
  }
 },
 "nbformat": 4,
 "nbformat_minor": 5
}

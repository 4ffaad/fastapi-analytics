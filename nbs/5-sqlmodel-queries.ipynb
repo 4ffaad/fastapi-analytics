{
 "cells": [
  {
   "cell_type": "code",
   "execution_count": 7,
   "id": "64baa72e",
   "metadata": {},
   "outputs": [],
   "source": [
    "import sys\n",
    "from pathlib import Path"
   ]
  },
  {
   "cell_type": "code",
   "execution_count": 8,
   "id": "1b52243c",
   "metadata": {},
   "outputs": [],
   "source": [
    "src_path = Path(\"../src\").resolve()\n",
    "sys.path.append(str(src_path))"
   ]
  },
  {
   "cell_type": "code",
   "execution_count": 9,
   "id": "e9286d37",
   "metadata": {},
   "outputs": [],
   "source": [
    "from api.events.models import EventModel"
   ]
  },
  {
   "cell_type": "code",
   "execution_count": null,
   "id": "79877103",
   "metadata": {},
   "outputs": [],
   "source": []
  }
 ],
 "metadata": {
  "kernelspec": {
   "display_name": "venv",
   "language": "python",
   "name": "python3"
  },
  "language_info": {
   "codemirror_mode": {
    "name": "ipython",
    "version": 3
   },
   "file_extension": ".py",
   "mimetype": "text/x-python",
   "name": "python",
   "nbconvert_exporter": "python",
   "pygments_lexer": "ipython3",
   "version": "3.13.3"
  }
 },
 "nbformat": 4,
 "nbformat_minor": 5
}
